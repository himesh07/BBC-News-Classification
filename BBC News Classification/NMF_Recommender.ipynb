{
 "cells": [
  {
   "cell_type": "code",
   "execution_count": 1,
   "id": "34c63c8a",
   "metadata": {},
   "outputs": [],
   "source": [
    "import pandas as pd\n",
    "import matplotlib.pyplot as plt\n",
    "import numpy as np\n",
    "import time\n",
    "from sklearn.model_selection import train_test_split\n",
    "from scipy.sparse import coo_matrix, csr_matrix\n",
    "from scipy.spatial.distance import jaccard, cosine \n",
    "from pytest import approx\n",
    "from sklearn.decomposition import NMF\n",
    "import warnings\n",
    "warnings.filterwarnings('ignore')\n",
    "from sklearn.preprocessing import normalize"
   ]
  },
  {
   "cell_type": "code",
   "execution_count": 2,
   "id": "44dd7c74",
   "metadata": {},
   "outputs": [],
   "source": [
    "MV_users = pd.read_csv('data/users.csv')\n",
    "MV_movies = pd.read_csv('data/movies.csv')\n",
    "train = pd.read_csv('data/train.csv')\n",
    "test = pd.read_csv('data/test.csv')"
   ]
  },
  {
   "cell_type": "code",
   "execution_count": 3,
   "id": "a02a1292",
   "metadata": {},
   "outputs": [],
   "source": [
    "from collections import namedtuple\n",
    "Data = namedtuple('Data', ['users','movies','train','test'])\n",
    "data = Data(MV_users, MV_movies, train, test)"
   ]
  },
  {
   "cell_type": "code",
   "execution_count": 4,
   "id": "48934109",
   "metadata": {},
   "outputs": [],
   "source": [
    "class RecSys():\n",
    "    def __init__(self,data):\n",
    "        self.data=data\n",
    "        self.allusers = list(self.data.users['uID'])\n",
    "        self.allmovies = list(self.data.movies['mID'])\n",
    "        self.genres = list(self.data.movies.columns.drop(['mID', 'title', 'year']))\n",
    "        self.mid2idx = dict(zip(self.data.movies.mID,list(range(len(self.data.movies)))))\n",
    "        self.uid2idx = dict(zip(self.data.users.uID,list(range(len(self.data.users)))))\n",
    "        self.Mr=self.rating_matrix()\n",
    "        self.Mm=None \n",
    "        self.sim=np.zeros((len(self.allmovies),len(self.allmovies)))\n",
    "        \n",
    "    def rating_matrix(self):\n",
    "        \"\"\"\n",
    "        Convert the rating matrix to numpy array of shape (#allusers,#allmovies)\n",
    "        \"\"\"\n",
    "        ind_movie = [self.mid2idx[x] for x in self.data.train.mID] \n",
    "        ind_user = [self.uid2idx[x] for x in self.data.train.uID]\n",
    "        rating_train = list(self.data.train.rating)\n",
    "        \n",
    "        return np.array(coo_matrix((rating_train, (ind_user, ind_movie)), shape=(len(self.allusers), \n",
    "                                                                                 len(self.allmovies))).toarray())\n",
    "    def predict_with_nfm(self):\n",
    "        nmf =  NMF(n_components=5) #ratings from 1 to 5\n",
    "        nmf_pred = nmf.fit_transform(self.data.train)\n",
    "        predictions = nmf.transform(self.data.test)\n",
    "        return np.argmax(predictions, axis=1)\n",
    "    def predict_with_nfm(self):\n",
    "        train = normalize(self.data.train)\n",
    "        test = normalize(self.data.test)\n",
    "        nmf =  NMF(n_components=5) #ratings from 1 to 5\n",
    "        nmf_pred = nmf.fit_transform(train)\n",
    "        predictions = nmf.transform(test)\n",
    "        return np.argmax(predictions, axis=1)\n",
    "        \n",
    "        \n",
    "    def rmse(self,yp):\n",
    "        yp[np.isnan(yp)]=3 #In case there is nan values in prediction, it will impute to 3.\n",
    "        yt=np.array(self.data.test.rating)\n",
    "        return np.sqrt(((yt-yp)**2).mean())\n",
    "\n"
   ]
  },
  {
   "cell_type": "code",
   "execution_count": 5,
   "id": "fe402119",
   "metadata": {},
   "outputs": [
    {
     "name": "stdout",
     "output_type": "stream",
     "text": [
      "rmse 2.925481623088295\n"
     ]
    }
   ],
   "source": [
    "rs = RecSys(data)\n",
    "yp = rs.predict_with_nfm()\n",
    "print(\"rmse\",rs.rmse(yp))"
   ]
  },
  {
   "cell_type": "markdown",
   "id": "3e62d127",
   "metadata": {},
   "source": [
    "<br> \n",
    "We applied skelarn non negative matrix factorization on our movie rating dataset and we get rmse value 2.925481623088295 which is even worse than the rmse value 1.2642784503423288 where we predicted everything to 3.\n",
    " \n",
    "Sklearn Non-Negative factorization did not perform well compared to simple baseline or similarity-based methods because NMF fails to perform if the underlaying dataset in highly sparse matrix.  It fails to extract meaningful information and latent features if data is sparse. Since the rating matrix we constructed from movies and user ratings is a highly sparse matrix so NFM performed worst of all methods in this case. \n",
    "<br>\n",
    "<br>\n",
    "<br>\n",
    "Performance in this case can be improved by multiple techniques.\n",
    "\n",
    "<b>Missing value imputation:<b>\n",
    "\n",
    "If we impute missing values in our dataset we can decrease the sparsity of data and NMF performance can be improved.\n",
    "\n",
    "<b>Feature reduction:</b>\n",
    "\n",
    "Feature reduction techniques can be applied to fix the performance issue of NMF for sparse data.Techniques like like Singular Value Decomposition or Principal Component Analysis can be used to reduce features and improve performance of NMF.\n",
    "\n",
    "\n",
    "\n",
    "\n"
   ]
  }
 ],
 "metadata": {
  "kernelspec": {
   "display_name": "Python 3 (ipykernel)",
   "language": "python",
   "name": "python3"
  },
  "language_info": {
   "codemirror_mode": {
    "name": "ipython",
    "version": 3
   },
   "file_extension": ".py",
   "mimetype": "text/x-python",
   "name": "python",
   "nbconvert_exporter": "python",
   "pygments_lexer": "ipython3",
   "version": "3.11.4"
  }
 },
 "nbformat": 4,
 "nbformat_minor": 5
}
